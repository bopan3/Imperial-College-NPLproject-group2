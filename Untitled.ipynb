{
 "cells": [
  {
   "cell_type": "code",
   "execution_count": 4,
   "metadata": {},
   "outputs": [
    {
     "name": "stdout",
     "output_type": "stream",
     "text": [
      "Default Mode: 我 来到 北京               \n",
      "             清华大学\n"
     ]
    }
   ],
   "source": [
    "import jieba\n",
    "strs=[\"我来到北京清华大学\",\"乒乓球拍卖完了\",\"中国科学技术大学\"]\n",
    "seg_list = jieba.cut(\"我来到北京       \\n      清华大学\", cut_all=False)\n",
    "print(\"Default Mode: \" + \" \".join(seg_list))  # 精确模式"
   ]
  },
  {
   "cell_type": "code",
   "execution_count": 1,
   "metadata": {},
   "outputs": [
    {
     "name": "stderr",
     "output_type": "stream",
     "text": [
      "2020-08-18 16:52:01,842 : INFO : collecting all words and their counts\n",
      "2020-08-18 16:52:01,844 : INFO : PROGRESS: at sentence #0, processed 0 words, keeping 0 word types\n",
      "2020-08-18 16:52:02,324 : INFO : PROGRESS: at sentence #10000, processed 584017 words, keeping 64144 word types\n",
      "2020-08-18 16:52:02,358 : INFO : collected 66376 word types from a corpus of 621719 raw words and 10456 sentences\n",
      "2020-08-18 16:52:02,359 : INFO : Loading a fresh vocabulary\n",
      "2020-08-18 16:52:02,607 : INFO : effective_min_count=1 retains 66376 unique words (100% of original 66376, drops 0)\n",
      "2020-08-18 16:52:02,608 : INFO : effective_min_count=1 leaves 621719 word corpus (100% of original 621719, drops 0)\n",
      "2020-08-18 16:52:03,005 : INFO : deleting the raw counts dictionary of 66376 items\n",
      "2020-08-18 16:52:03,011 : INFO : sample=0.001 downsamples 29 most-common words\n",
      "2020-08-18 16:52:03,013 : INFO : downsampling leaves estimated 512360 word corpus (82.4% of prior 621719)\n",
      "2020-08-18 16:52:03,568 : INFO : estimated required memory for 66376 words and 100 dimensions: 86288800 bytes\n",
      "2020-08-18 16:52:03,570 : INFO : resetting layer weights\n",
      "2020-08-18 16:52:36,663 : INFO : training model with 3 workers on 66376 vocabulary and 100 features, using sg=0 hs=0 sample=0.001 negative=5 window=5\n",
      "2020-08-18 16:52:37,670 : INFO : EPOCH 1 - PROGRESS: at 72.96% examples, 367916 words/s, in_qsize 5, out_qsize 0\n",
      "2020-08-18 16:52:37,921 : INFO : worker thread finished; awaiting finish of 2 more threads\n",
      "2020-08-18 16:52:37,937 : INFO : worker thread finished; awaiting finish of 1 more threads\n",
      "2020-08-18 16:52:37,968 : INFO : worker thread finished; awaiting finish of 0 more threads\n",
      "2020-08-18 16:52:37,969 : INFO : EPOCH - 1 : training on 621719 raw words (512439 effective words) took 1.3s, 393844 effective words/s\n",
      "2020-08-18 16:52:39,043 : INFO : EPOCH 2 - PROGRESS: at 82.72% examples, 384163 words/s, in_qsize 5, out_qsize 0\n",
      "2020-08-18 16:52:39,215 : INFO : worker thread finished; awaiting finish of 2 more threads\n",
      "2020-08-18 16:52:39,248 : INFO : worker thread finished; awaiting finish of 1 more threads\n",
      "2020-08-18 16:52:39,293 : INFO : worker thread finished; awaiting finish of 0 more threads\n",
      "2020-08-18 16:52:39,294 : INFO : EPOCH - 2 : training on 621719 raw words (512545 effective words) took 1.3s, 388539 effective words/s\n",
      "2020-08-18 16:52:40,312 : INFO : EPOCH 3 - PROGRESS: at 82.39% examples, 405208 words/s, in_qsize 4, out_qsize 1\n",
      "2020-08-18 16:52:40,482 : INFO : worker thread finished; awaiting finish of 2 more threads\n",
      "2020-08-18 16:52:40,514 : INFO : worker thread finished; awaiting finish of 1 more threads\n",
      "2020-08-18 16:52:40,556 : INFO : worker thread finished; awaiting finish of 0 more threads\n",
      "2020-08-18 16:52:40,557 : INFO : EPOCH - 3 : training on 621719 raw words (512154 effective words) took 1.3s, 407519 effective words/s\n",
      "2020-08-18 16:52:41,588 : INFO : EPOCH 4 - PROGRESS: at 80.81% examples, 391925 words/s, in_qsize 5, out_qsize 0\n",
      "2020-08-18 16:52:41,837 : INFO : worker thread finished; awaiting finish of 2 more threads\n",
      "2020-08-18 16:52:41,856 : INFO : worker thread finished; awaiting finish of 1 more threads\n",
      "2020-08-18 16:52:41,867 : INFO : worker thread finished; awaiting finish of 0 more threads\n",
      "2020-08-18 16:52:41,868 : INFO : EPOCH - 4 : training on 621719 raw words (512344 effective words) took 1.3s, 392641 effective words/s\n",
      "2020-08-18 16:52:42,883 : INFO : EPOCH 5 - PROGRESS: at 80.81% examples, 398716 words/s, in_qsize 4, out_qsize 1\n",
      "2020-08-18 16:52:43,112 : INFO : worker thread finished; awaiting finish of 2 more threads\n",
      "2020-08-18 16:52:43,120 : INFO : worker thread finished; awaiting finish of 1 more threads\n",
      "2020-08-18 16:52:43,137 : INFO : worker thread finished; awaiting finish of 0 more threads\n",
      "2020-08-18 16:52:43,139 : INFO : EPOCH - 5 : training on 621719 raw words (512244 effective words) took 1.3s, 405543 effective words/s\n",
      "2020-08-18 16:52:43,140 : INFO : training on a 3108595 raw words (2561726 effective words) took 6.5s, 395569 effective words/s\n"
     ]
    }
   ],
   "source": [
    "# import modules & set up logging\n",
    "import gensim, logging,os\n",
    "logging.basicConfig(format='%(asctime)s : %(levelname)s : %(message)s', level=logging.INFO)\n",
    " \n",
    "#sentences = [['first', 'sentence'], ['second', 'sentence']]\n",
    "# train word2vec on the two sentences\n",
    "#model = gensim.models.Word2Vec(sentences, min_count=1)\n",
    "\n",
    "\n",
    "class MySentences(object):\n",
    "    def __init__(self, dirname):\n",
    "        self.dirname = dirname\n",
    " \n",
    "    def __iter__(self):\n",
    "        for fname in os.listdir(self.dirname):\n",
    "            if fname[0]!='.':\n",
    "                for line in open(os.path.join(self.dirname, fname)):\n",
    "                    yield line.split()\n",
    "                \n",
    "sentences = MySentences('try/') # a memory-friendly iterator\n",
    "\n",
    "\n",
    "\n",
    "model = gensim.models.Word2Vec(sentences,min_count=1)"
   ]
  },
  {
   "cell_type": "code",
   "execution_count": 10,
   "metadata": {},
   "outputs": [
    {
     "name": "stdout",
     "output_type": "stream",
     "text": [
      "README.md           Untitled.ipynb      \u001b[34mafter_t2s\u001b[m\u001b[m           \u001b[34mtext\u001b[m\u001b[m\r\n",
      "\u001b[34mSpoon-Knife\u001b[m\u001b[m         WordEmbedding.ipynb team log.md         try\r\n"
     ]
    }
   ],
   "source": [
    "!ls"
   ]
  },
  {
   "cell_type": "code",
   "execution_count": 53,
   "metadata": {},
   "outputs": [
    {
     "data": {
      "text/plain": [
       "0"
      ]
     },
     "execution_count": 53,
     "metadata": {},
     "output_type": "execute_result"
    }
   ],
   "source": [
    "a='          '\n",
    "len(a.strip())"
   ]
  },
  {
   "cell_type": "code",
   "execution_count": 55,
   "metadata": {},
   "outputs": [
    {
     "name": "stdout",
     "output_type": "stream",
     "text": [
      "the 3th number\n"
     ]
    }
   ],
   "source": [
    "print(\"the %dth number\" %3)"
   ]
  },
  {
   "cell_type": "code",
   "execution_count": 56,
   "metadata": {},
   "outputs": [
    {
     "name": "stdout",
     "output_type": "stream",
     "text": [
      "world hello world\n"
     ]
    }
   ],
   "source": [
    "print('{a} {tom} {a}'.format(tom='hello',a='world'))"
   ]
  },
  {
   "cell_type": "code",
   "execution_count": 2,
   "metadata": {},
   "outputs": [
    {
     "name": "stderr",
     "output_type": "stream",
     "text": [
      "2020-08-18 17:18:48,604 : INFO : saving Word2Vec object under word2vec.model, separately None\n",
      "2020-08-18 17:18:48,612 : INFO : not storing attribute vectors_norm\n",
      "2020-08-18 17:18:48,621 : INFO : not storing attribute cum_table\n",
      "2020-08-18 17:18:49,924 : INFO : saved word2vec.model\n"
     ]
    }
   ],
   "source": [
    "model.save(\"word2vec.model\")"
   ]
  },
  {
   "cell_type": "code",
   "execution_count": null,
   "metadata": {},
   "outputs": [],
   "source": []
  }
 ],
 "metadata": {
  "kernelspec": {
   "display_name": "Python 3",
   "language": "python",
   "name": "python3"
  },
  "language_info": {
   "codemirror_mode": {
    "name": "ipython",
    "version": 3
   },
   "file_extension": ".py",
   "mimetype": "text/x-python",
   "name": "python",
   "nbconvert_exporter": "python",
   "pygments_lexer": "ipython3",
   "version": "3.6.5"
  }
 },
 "nbformat": 4,
 "nbformat_minor": 2
}
